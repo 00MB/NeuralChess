{
  "nbformat": 4,
  "nbformat_minor": 0,
  "metadata": {
    "colab": {
      "name": "NeuralChess01.ipynb",
      "provenance": [],
      "authorship_tag": "ABX9TyNqVOdP92hoX8OiOdSbC8f/",
      "include_colab_link": true
    },
    "kernelspec": {
      "name": "python3",
      "display_name": "Python 3"
    }
  },
  "cells": [
    {
      "cell_type": "markdown",
      "metadata": {
        "id": "view-in-github",
        "colab_type": "text"
      },
      "source": [
        "<a href=\"https://colab.research.google.com/github/00MB/NeuralChess/blob/main/NeuralChess01.ipynb\" target=\"_parent\"><img src=\"https://colab.research.google.com/assets/colab-badge.svg\" alt=\"Open In Colab\"/></a>"
      ]
    },
    {
      "cell_type": "code",
      "metadata": {
        "id": "p6N2sku3KbVZ"
      },
      "source": [
        "initial test"
      ],
      "execution_count": null,
      "outputs": []
    }
  ]
}